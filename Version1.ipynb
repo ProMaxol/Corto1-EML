{
 "cells": [
  {
   "cell_type": "markdown",
   "id": "sunrise-atlanta",
   "metadata": {},
   "source": [
    "# Corto 1 \n",
    "## Marlon Tzorin - 20180072"
   ]
  },
  {
   "cell_type": "code",
   "execution_count": 69,
   "id": "cordless-velvet",
   "metadata": {},
   "outputs": [],
   "source": [
    "import warnings\n",
    "warnings.filterwarnings(action='ignore')"
   ]
  },
  {
   "cell_type": "code",
   "execution_count": 70,
   "id": "measured-foundation",
   "metadata": {},
   "outputs": [],
   "source": [
    "import pandas as pd \n",
    "import numpy as np \n",
    "import matplotlib.pyplot as plt"
   ]
  },
  {
   "cell_type": "code",
   "execution_count": 71,
   "id": "latin-justice",
   "metadata": {},
   "outputs": [],
   "source": [
    "df = pd.read_csv('dat.csv')"
   ]
  },
  {
   "cell_type": "code",
   "execution_count": 72,
   "id": "pleased-figure",
   "metadata": {},
   "outputs": [
    {
     "data": {
      "text/html": [
       "<div>\n",
       "<style scoped>\n",
       "    .dataframe tbody tr th:only-of-type {\n",
       "        vertical-align: middle;\n",
       "    }\n",
       "\n",
       "    .dataframe tbody tr th {\n",
       "        vertical-align: top;\n",
       "    }\n",
       "\n",
       "    .dataframe thead th {\n",
       "        text-align: right;\n",
       "    }\n",
       "</style>\n",
       "<table border=\"1\" class=\"dataframe\">\n",
       "  <thead>\n",
       "    <tr style=\"text-align: right;\">\n",
       "      <th></th>\n",
       "      <th>A</th>\n",
       "      <th>B</th>\n",
       "      <th>C</th>\n",
       "    </tr>\n",
       "  </thead>\n",
       "  <tbody>\n",
       "    <tr>\n",
       "      <th>0</th>\n",
       "      <td>0.796997</td>\n",
       "      <td>50.312938</td>\n",
       "      <td>2532.026902</td>\n",
       "    </tr>\n",
       "    <tr>\n",
       "      <th>1</th>\n",
       "      <td>1.115603</td>\n",
       "      <td>50.156194</td>\n",
       "      <td>2516.888332</td>\n",
       "    </tr>\n",
       "    <tr>\n",
       "      <th>2</th>\n",
       "      <td>1.064629</td>\n",
       "      <td>50.774814</td>\n",
       "      <td>2579.215190</td>\n",
       "    </tr>\n",
       "  </tbody>\n",
       "</table>\n",
       "</div>"
      ],
      "text/plain": [
       "          A          B            C\n",
       "0  0.796997  50.312938  2532.026902\n",
       "1  1.115603  50.156194  2516.888332\n",
       "2  1.064629  50.774814  2579.215190"
      ]
     },
     "execution_count": 72,
     "metadata": {},
     "output_type": "execute_result"
    }
   ],
   "source": [
    "df.columns = [\"A\", \"B\", \"C\"]\n",
    "df.head(3)"
   ]
  },
  {
   "cell_type": "code",
   "execution_count": 73,
   "id": "handled-hampton",
   "metadata": {},
   "outputs": [],
   "source": [
    "df['A2'] = df['A'] ** 2\n",
    "df['A3'] = df['A'] ** 3\n",
    "df['A4'] = df['A'] ** 4\n",
    "df['A5'] = df['A'] ** 5\n",
    "\n",
    "df['B2'] = df['B'] ** 2\n",
    "df['B3'] = df['B'] ** 3\n",
    "df['B4'] = df['B'] ** 4\n",
    "df['B5'] = df['B'] ** 5"
   ]
  },
  {
   "cell_type": "code",
   "execution_count": 74,
   "id": "matched-wallpaper",
   "metadata": {},
   "outputs": [],
   "source": [
    "df['cons'] = 1\n",
    "y = df[['C']].to_numpy()\n",
    "X = df[['cons','A','A2','B','B2']].to_numpy()"
   ]
  },
  {
   "cell_type": "code",
   "execution_count": 75,
   "id": "general-translation",
   "metadata": {},
   "outputs": [],
   "source": [
    "def linear_cost(X, y, theta): \n",
    "    h = X @ theta\n",
    "    return ((y-h)**2).sum() / (2 * len(X))"
   ]
  },
  {
   "cell_type": "code",
   "execution_count": 76,
   "id": "random-average",
   "metadata": {},
   "outputs": [],
   "source": [
    "def linear_cost_gradient(X, y, theta): \n",
    "    h = X @ theta\n",
    "    return (X.T @ (h-y))/ len(X)"
   ]
  },
  {
   "cell_type": "code",
   "execution_count": 77,
   "id": "finished-battle",
   "metadata": {},
   "outputs": [],
   "source": [
    "def gradient_descent(X, y, theta_0, linear_function, linear_gradient, \n",
    "                     learning_rate=0.0000000000000000001, threshold= 0.0000000001, max_iter=10000, lamb = 10, n = 0):\n",
    "    theta = theta_0\n",
    "    iteration = 0\n",
    "    costs = []\n",
    "    thetas = []\n",
    "\n",
    "    while np.linalg.norm(linear_gradient(X, y, theta)) > threshold and iteration < max_iter:\n",
    "        iteration += 1\n",
    "        n += 1\n",
    "        theta = theta - learning_rate * (linear_gradient(X, y, theta) + lamb * theta)\n",
    "        costs.append(linear_function(X, y, theta))\n",
    "        thetas.append(theta.copy())\n",
    "    return theta, costs, thetas"
   ]
  },
  {
   "cell_type": "code",
   "execution_count": 78,
   "id": "pediatric-trainer",
   "metadata": {},
   "outputs": [],
   "source": [
    "m, n = X.shape\n",
    "theta_0 = np.random.rand(n,1)\n",
    "np.random.shuffle(X)\n",
    "np.random.shuffle(y)"
   ]
  },
  {
   "cell_type": "code",
   "execution_count": 79,
   "id": "selected-bermuda",
   "metadata": {},
   "outputs": [
    {
     "name": "stdout",
     "output_type": "stream",
     "text": [
      "(159999, 1) (159999, 5)\n"
     ]
    }
   ],
   "source": [
    "print(y.shape, X.shape)"
   ]
  },
  {
   "cell_type": "code",
   "execution_count": 80,
   "id": "hawaiian-priority",
   "metadata": {},
   "outputs": [],
   "source": [
    "X_train = X[:96000]\n",
    "X_cv = X[96000:128000]\n",
    "X_test = X[128000:159999]\n",
    "y_train = y[:96000]\n",
    "y_cv = y[96000:128000]\n",
    "y_test = y[128000:159999]"
   ]
  },
  {
   "cell_type": "code",
   "execution_count": 81,
   "id": "boring-forward",
   "metadata": {},
   "outputs": [],
   "source": [
    "theta, costs, thetas = gradient_descent(X_train,y_train,theta_0,linear_cost,linear_cost_gradient,0.00000000000001,0.001,50,2)"
   ]
  },
  {
   "cell_type": "code",
   "execution_count": 82,
   "id": "surface-palmer",
   "metadata": {},
   "outputs": [
    {
     "name": "stdout",
     "output_type": "stream",
     "text": [
      "119042786.58681072\n"
     ]
    }
   ],
   "source": [
    "print(costs[len(costs)-1])"
   ]
  },
  {
   "cell_type": "code",
   "execution_count": 83,
   "id": "average-cleaning",
   "metadata": {},
   "outputs": [
    {
     "data": {
      "text/plain": [
       "[<matplotlib.lines.Line2D at 0x1d938a526a0>]"
      ]
     },
     "execution_count": 83,
     "metadata": {},
     "output_type": "execute_result"
    },
    {
     "data": {
      "image/png": "[encoded data removed]",
      "text/plain": [
       "<Figure size 432x288 with 1 Axes>"
      ]
     },
     "metadata": {
      "needs_background": "light"
     },
     "output_type": "display_data"
    }
   ],
   "source": [
    "plt.plot(costs)"
   ]
  },
  {
   "cell_type": "code",
   "execution_count": 84,
   "id": "likely-breakfast",
   "metadata": {},
   "outputs": [
    {
     "data": {
      "image/png": "[encoded data removed]",
      "text/plain": [
       "<Figure size 432x288 with 1 Axes>"
      ]
     },
     "metadata": {
      "needs_background": "light"
     },
     "output_type": "display_data"
    }
   ],
   "source": [
    "plt.scatter(X_test[:, 2], y_test)\n",
    "plt.plot(X_test[:, 2], X_test @ theta, color='green')\n",
    "plt.show()"
   ]
  },
  {
   "cell_type": "code",
   "execution_count": 85,
   "id": "alternate-validation",
   "metadata": {},
   "outputs": [],
   "source": [
    "y2 = df[['C']].to_numpy()\n",
    "X2 = df[['cons','A','A2','A3','B','B2','B3']].to_numpy()\n",
    "np.random.shuffle(X2)\n",
    "np.random.shuffle(y2)"
   ]
  },
  {
   "cell_type": "code",
   "execution_count": 86,
   "id": "robust-jungle",
   "metadata": {},
   "outputs": [],
   "source": [
    "X2_train = X2[:96000]\n",
    "X2_cv = X2[96000:128000]\n",
    "X2_test = X2[128000:159999]\n",
    "y2_train = y2[:96000]\n",
    "y2_cv = y2[96000:128000]\n",
    "y2_test = y2[128000:159999]\n",
    "m, n = X2.shape\n",
    "theta_02 = np.random.rand(n,1)"
   ]
  },
  {
   "cell_type": "code",
   "execution_count": 109,
   "id": "fresh-couple",
   "metadata": {},
   "outputs": [],
   "source": [
    "theta2, costs2, thetas2 = gradient_descent(X2_train,y2_train,theta_02,linear_cost,linear_cost_gradient,0.0000000000000001,0.000000001,10000,2)"
   ]
  },
  {
   "cell_type": "code",
   "execution_count": 110,
   "id": "standard-philip",
   "metadata": {},
   "outputs": [
    {
     "name": "stdout",
     "output_type": "stream",
     "text": [
      "24017384669.082058\n"
     ]
    }
   ],
   "source": [
    "print(costs2[len(costs2)-1])"
   ]
  },
  {
   "cell_type": "code",
   "execution_count": 111,
   "id": "innocent-roommate",
   "metadata": {},
   "outputs": [
    {
     "data": {
      "text/plain": [
       "[<matplotlib.lines.Line2D at 0x1d9389e17c0>]"
      ]
     },
     "execution_count": 111,
     "metadata": {},
     "output_type": "execute_result"
    },
    {
     "data": {
      "image/png": "[encoded data removed]",
      "text/plain": [
       "<Figure size 432x288 with 1 Axes>"
      ]
     },
     "metadata": {
      "needs_background": "light"
     },
     "output_type": "display_data"
    }
   ],
   "source": [
    "plt.plot(costs2)"
   ]
  },
  {
   "cell_type": "code",
   "execution_count": 112,
   "id": "lovely-movie",
   "metadata": {},
   "outputs": [
    {
     "data": {
      "image/png": "[encoded data removed]",
      "text/plain": [
       "<Figure size 432x288 with 1 Axes>"
      ]
     },
     "metadata": {
      "needs_background": "light"
     },
     "output_type": "display_data"
    }
   ],
   "source": [
    "plt.scatter(X2_test[:, 2], y2_test)\n",
    "plt.plot(X2_test[:, 2], X2_test @ theta2, color='green')\n",
    "plt.show()"
   ]
  },
  {
   "cell_type": "code",
   "execution_count": 93,
   "id": "revised-showcase",
   "metadata": {},
   "outputs": [
    {
     "name": "stdout",
     "output_type": "stream",
     "text": [
      "23877838426.439484\n"
     ]
    }
   ],
   "source": [
    "cv_cost = linear_cost(X2_cv,y2_cv, theta2)\n",
    "print(cv_cost)"
   ]
  },
  {
   "cell_type": "markdown",
   "id": "working-abortion",
   "metadata": {},
   "source": [
    "# Preguntas y Respuetas"
   ]
  },
  {
   "cell_type": "markdown",
   "id": "smart-moment",
   "metadata": {},
   "source": [
    "## El grado del polinomio elegido\n",
    "### el grado de polinomio elegido es el polinomio 3 \n",
    "## El lambda utilizado para regularizar\n",
    "### el lamba utilizado para poder regularizar el comportamiento es de 2 \n",
    "\n",
    "### Debido al bias que se puede denotar en las graficas sirvio usar el lambada de 2 para poder regularizar los polinomios , de esta manera el mejor polinomio seria de grado 3 "
   ]
  }
 ],
 "metadata": {
  "kernelspec": {
   "display_name": "Python 3",
   "language": "python",
   "name": "python3"
  },
  "language_info": {
   "codemirror_mode": {
    "name": "ipython",
    "version": 3
   },
   "file_extension": ".py",
   "mimetype": "text/x-python",
   "name": "python",
   "nbconvert_exporter": "python",
   "pygments_lexer": "ipython3",
   "version": "3.9.1"
  }
 },
 "nbformat": 4,
 "nbformat_minor": 5
}
